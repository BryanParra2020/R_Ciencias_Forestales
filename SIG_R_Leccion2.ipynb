{
 "cells": [
  {
   "cell_type": "markdown",
   "metadata": {},
   "source": [
    "# Leccion 2\n",
    "Operaciones entre raster y calculo de Indice de Aridez de Martonne (1926), modelo a 2050"
   ]
  },
  {
   "cell_type": "code",
   "execution_count": null,
   "metadata": {},
   "outputs": [],
   "source": [
    "setwd (\"C:/Users/Administrador/Documents/Danny/R'Project/SIG_R/Leccion2\")"
   ]
  },
  {
   "cell_type": "markdown",
   "metadata": {},
   "source": [
    "Calcular la precipitacion anual, ya que la informacion viene mensual"
   ]
  },
  {
   "cell_type": "code",
   "execution_count": null,
   "metadata": {},
   "outputs": [],
   "source": [
    "pe <- raster (\"gf85pr50/gf85pr501.tif\")\n",
    "pf <- raster (\"gf85pr50/gf85pr502.tif\")\n",
    "pm <- raster (\"gf85pr50/gf85pr503.tif\")\n",
    "pab <- raster (\"gf85pr50/gf85pr504.tif\")\n",
    "pmy <- raster (\"gf85pr50/gf85pr505.tif\")\n",
    "pjn <- raster (\"gf85pr50/gf85pr506.tif\")\n",
    "pjl <- raster (\"gf85pr50/gf85pr507.tif\")\n",
    "pa <- raster (\"gf85pr50/gf85pr508.tif\")\n",
    "ps <- raster (\"gf85pr50/gf85pr509.tif\")\n",
    "po <- raster (\"gf85pr50/gf85pr5010.tif\")\n",
    "pn <- raster (\"gf85pr50/gf85pr5011.tif\")\n",
    "pd <- raster (\"gf85pr50/gf85pr5012.tif\")"
   ]
  },
  {
   "cell_type": "markdown",
   "metadata": {},
   "source": [
    "Calculando la precipitacion anual"
   ]
  },
  {
   "cell_type": "code",
   "execution_count": null,
   "metadata": {},
   "outputs": [],
   "source": [
    "pta <- pe + pf + pm + pab + pmy + pjn + pjl + pa + ps + po + pn + pd\n",
    "plot (pta, main = \"Precipitación Total Anual Año 2050 - GFDL RCP 8.5\", cex.main = 1.1)"
   ]
  },
  {
   "cell_type": "markdown",
   "metadata": {},
   "source": [
    "Calcular la temperatura minima anual, ya que la informacion viene mensual"
   ]
  },
  {
   "cell_type": "code",
   "execution_count": null,
   "metadata": {},
   "outputs": [],
   "source": [
    "tne <- raster (\"gf85tn50/gf85tn501.tif\")\n",
    "tnf <- raster (\"gf85tn50/gf85tn502.tif\")\n",
    "tnm <- raster (\"gf85tn50/gf85tn503.tif\")\n",
    "tnab <- raster (\"gf85tn50/gf85tn504.tif\")\n",
    "tnmy <- raster (\"gf85tn50/gf85tn505.tif\")\n",
    "tnjn <- raster (\"gf85tn50/gf85tn506.tif\")\n",
    "tnjl <- raster (\"gf85tn50/gf85tn507.tif\")\n",
    "tna <- raster (\"gf85tn50/gf85tn508.tif\")\n",
    "tns <- raster (\"gf85tn50/gf85tn509.tif\")\n",
    "tno <- raster (\"gf85tn50/gf85tn5010.tif\")\n",
    "tnn <- raster (\"gf85tn50/gf85tn5011.tif\")\n",
    "tnd <- raster (\"gf85tn50/gf85tn5012.tif\")"
   ]
  },
  {
   "cell_type": "markdown",
   "metadata": {},
   "source": [
    "Calculando la temperatura minima anual 2050"
   ]
  },
  {
   "cell_type": "code",
   "execution_count": null,
   "metadata": {},
   "outputs": [],
   "source": [
    "tna <- ((tne + tnf + tnm + tnab + tnmy + tnjn + tnjl + tna + tns + tno + tnn + tnd)/12)/10 \n",
    "#Se divide entre 12 meses para obtener la media anual, y se divide todo entre 10 ya que del \"worldclimate\" las variables estan \n",
    "#multiplicadas por 10 y asi se dejan en valores acordes\n",
    "plot (tna, main = \"Tmin Media Anual Año 2050 - GFDL RCP 8.5 (°C)\", cex.main = 1.1)"
   ]
  },
  {
   "cell_type": "markdown",
   "metadata": {},
   "source": [
    "Calcular la temperatura maxima anual, ya que la informacion viene mensual"
   ]
  },
  {
   "cell_type": "code",
   "execution_count": null,
   "metadata": {},
   "outputs": [],
   "source": [
    "txe <- raster (\"gf85tx50/gf85tx501.tif\")\n",
    "txf <- raster (\"gf85tx50/gf85tx502.tif\")\n",
    "txm <- raster (\"gf85tx50/gf85tx503.tif\")\n",
    "txab <- raster (\"gf85tx50/gf85tx504.tif\")\n",
    "txmy <- raster (\"gf85tx50/gf85tx505.tif\")\n",
    "txjn <- raster (\"gf85tx50/gf85tx506.tif\")\n",
    "txjl <- raster (\"gf85tx50/gf85tx507.tif\")\n",
    "txa <- raster (\"gf85tx50/gf85tx508.tif\")\n",
    "txs <- raster (\"gf85tx50/gf85tx509.tif\")\n",
    "txo <- raster (\"gf85tx50/gf85tx5010.tif\")\n",
    "txn <- raster (\"gf85tx50/gf85tx5011.tif\")\n",
    "txd <- raster (\"gf85tx50/gf85tx5012.tif\")"
   ]
  },
  {
   "cell_type": "markdown",
   "metadata": {},
   "source": [
    "Calculando la temperatura maxima anual 2050"
   ]
  },
  {
   "cell_type": "code",
   "execution_count": null,
   "metadata": {},
   "outputs": [],
   "source": [
    "txa <- ((txe + txf + txm + txab + txmy + txjn + txjl + txa + txs + txo + txn + txd)/12)/10 \n",
    "#Se divide entre 12 meses para obtener la media anual, y se divide todo entre 10 ya que del \"worldclimate\" las variables estan \n",
    "#multiplicadas por 10 y asi se dejan en valores acordes\n",
    "plot (txa, main = \"Tmin Maxima Anual Año 2050 - GFDL RCP 8.5 (°C)\", cex.main = 1.1, \n",
    "     col = c (\"lightyellow\", \"yellow\", \"gold\", \"orange\", \"darkorange\", \"red\"))"
   ]
  },
  {
   "cell_type": "markdown",
   "metadata": {},
   "source": [
    "Calculando la temperatura media anual 2050, la necesaria, empleada en el indice de Aridez de Martone"
   ]
  },
  {
   "cell_type": "code",
   "execution_count": null,
   "metadata": {},
   "outputs": [],
   "source": [
    "tmp <- (tna + txa)/2\n",
    "plot (tmp, main = \"TMedia Anual Año 2050 - GFDL RCP 8.5 (°C)\", cex.main = 1.1)"
   ]
  },
  {
   "cell_type": "markdown",
   "metadata": {},
   "source": [
    "Cargar una capa de tipo vectorial para Colombia, mediante la funcion readOGR de la libreria (rgdal)"
   ]
  },
  {
   "cell_type": "code",
   "execution_count": null,
   "metadata": {},
   "outputs": [],
   "source": [
    "Col <- readOGR (\"C:/Users/Administrador/Documents/Danny/R'Project/SIG_R/Leccion1/Deptos_WGS84/Deptos_WGS84/deptos_wgs84.shp\")\n",
    "plot (Col)"
   ]
  },
  {
   "cell_type": "markdown",
   "metadata": {},
   "source": [
    "Cortar raster al area del poligono (GFDL a Colombia), haciendo uso de la funcion \"crop\", recibe como argumentos a la capa raster seguido del poligono"
   ]
  },
  {
   "cell_type": "code",
   "execution_count": null,
   "metadata": {},
   "outputs": [],
   "source": [
    "#Cortando la precipitacion total anual para Colombia\n",
    "pta_Col <- crop (pta, Col) \n",
    "plot (pta_Col)\n",
    "plot (pta_Col, add = TRUE)"
   ]
  },
  {
   "cell_type": "code",
   "execution_count": null,
   "metadata": {},
   "outputs": [],
   "source": [
    "#Cortando la temperatura media anual para Colombia\n",
    "tma_Col <- crop (tmp, Col) \n",
    "plot (tma_Col)\n",
    "plot (tma_Col, add = TRUE)"
   ]
  },
  {
   "cell_type": "markdown",
   "metadata": {},
   "source": [
    "**Indice de Aridez de Martonne (1926)**"
   ]
  },
  {
   "cell_type": "markdown",
   "metadata": {},
   "source": [
    "\\begin{equation}\n",
    "Ia = \\frac{P}{Tm + 10} \n",
    "\\end{equation}"
   ]
  },
  {
   "cell_type": "markdown",
   "metadata": {},
   "source": [
    "* Siendo: \n",
    "\n",
    "\\begin{itemize}\n",
    "Ia : Indice de Aridez\n",
    "P : Precipitacion \n",
    "Tm: Temperatura media \n",
    "\\end{itemize}"
   ]
  },
  {
   "cell_type": "code",
   "execution_count": null,
   "metadata": {},
   "outputs": [],
   "source": [
    "Ia <- pta_Col/(tma_Col + 10)"
   ]
  },
  {
   "cell_type": "code",
   "execution_count": null,
   "metadata": {},
   "outputs": [],
   "source": [
    "#plotear el calculo realizado en un mapa y acomodar la paleta de colores \n",
    "colores <- c (\"Red\", \"orange\", \"yellow\", \"deepskyblue1\",\"dodgerblue2\",\"blue2\")\n",
    "plot (Ia, main = \"Indice de Aridez Colombia 2050 - GFDL RCP 8.5\", \n",
    "      cex.main = 1.1, xlab = \"Longitud\", ylab = \"Latitud\", col.lab = \"black\", font.lab = 7,\n",
    "      col = c (\"Red\", \"orange\", \"yellow\", \"deepskyblue1\",\"dodgerblue2\",\"blue2\"))\n",
    "plot (Col, add = TRUE) #Sobreponer el vector COLOMBIA\n",
    "grid (col = \"black\", lty = 5)\n",
    "legend (\"bottomleft\", c (\"Desiertos (Hiperáridos)\", \"Semidesierto (Árido)\", \n",
    "           \"Semiárido de tipo mediterránero\", \"Subhúmeda\", \"Húmeda\", \"Perhúmeda\"),\n",
    "       cex = 0.6, text.col = \"black\", text.font = 4, fill = colores, title = \"Leyenda\", bty = \"n\")"
   ]
  },
  {
   "cell_type": "markdown",
   "metadata": {},
   "source": [
    "Creando un dataframe que permita categorizar el Indice de Aridez calculado"
   ]
  },
  {
   "cell_type": "code",
   "execution_count": null,
   "metadata": {},
   "outputs": [],
   "source": [
    "#Generando el dataframe\n",
    "#Crear los vectores que almacenan al datframe con los rangos del Indice de Aridez de Martonne (1926)\n",
    "Valores_de_Ia <- c (\"0 - 5\", \"5 - 10\", \"10 - 20\", \"20 - 30\", \"30 - 60\", \">60\")\n",
    "Zona <- c (\"Desiertos (Hiperáridos)\", \"Semidesierto (Árido)\", \n",
    "           \"Semiárido de tipo mediterránero\", \"Subhúmeda\", \"Húmeda\", \"Perhúmeda\")\n",
    "categ <- data.frame (Valores_de_Ia, Zona)\n",
    "categ"
   ]
  },
  {
   "cell_type": "markdown",
   "metadata": {},
   "source": [
    "Exportar mapa generado a imagen (archivo.png()) en este caso .png"
   ]
  },
  {
   "cell_type": "code",
   "execution_count": null,
   "metadata": {},
   "outputs": [],
   "source": [
    "#####  Guardar el grafico generado\n",
    "png(\"C:/Users/Administrador/Documents/Danny/R'Project/SIG_R/Leccion2/Ia_2050Col_GFDL_RCP8.5.png\")\n",
    "#plotear el calculo realizado en un mapa\n",
    "colores <- c (\"Red\", \"orange\", \"yellow\", \"deepskyblue1\",\"dodgerblue2\",\"blue2\")\n",
    "plot (Ia, main = \"Indice de Aridez Colombia 2050 - GFDL RCP 8.5\", \n",
    "      cex.main = 1.1, xlab = \"Longitud\", ylab = \"Latitud\", col.lab = \"black\", font.lab = 7,\n",
    "      col = c (\"Red\", \"orange\", \"yellow\", \"deepskyblue1\",\"dodgerblue2\",\"blue2\"))\n",
    "plot (Col, add = TRUE) #Sobreponer el vector COLOMBIA\n",
    "grid (col = \"black\", lty = 5)\n",
    "legend (\"bottomleft\", c (\"Desiertos (Hiperáridos)\", \"Semidesierto (Árido)\", \n",
    "           \"Semiárido de tipo mediterránero\", \"Subhúmeda\", \"Húmeda\", \"Perhúmeda\"),\n",
    "       cex = 0.6, text.col = \"black\", text.font = 4, fill = colores, title = \"Leyenda\", bty = \"n\")\n",
    "dev.off()"
   ]
  },
  {
   "cell_type": "markdown",
   "metadata": {},
   "source": [
    "Exportar mapa generado a raster (archivo.tif()), a traves de la funcion writeRaster de la libreria raster"
   ]
  },
  {
   "cell_type": "code",
   "execution_count": null,
   "metadata": {},
   "outputs": [],
   "source": [
    "#El archivo generado se almacenara en el directorio de trabajo anteriormente establecido\n",
    "writeRaster (Ia, filename = \"Ia_2050Col_GFDL_RCP8.5\", format = \"GTiff\", overwrite = TRUE) # Esta capa generada se puede abrir en software como QGIS O ArcGIS para su tratamiento posterior"
   ]
  },
  {
   "cell_type": "markdown",
   "metadata": {},
   "source": [
    "Exportar mapa generado a raster (archivo.tif()), a traves de la funcion writeRaster de la libreria raster, \n",
    "para cambiar el pseudocolor en QGIS o ArcGIS"
   ]
  },
  {
   "cell_type": "markdown",
   "metadata": {},
   "source": [
    "#plotear el calculo realizado en un mapa\n",
    "plot (Ia, main = \"Indice de Aridez Colombia 2050 - GFDL RCP 8.5\", \n",
    "      cex.main = 1.1, xlab = \"Longitud\", ylab = \"Latitud\", col.lab = \"black\", font.lab = 6)\n",
    "plot (Col, add = TRUE) #Sobreponer el vector COLOMBIA"
   ]
  },
  {
   "cell_type": "markdown",
   "metadata": {},
   "source": [
    "#El archivo generado se almacenara en el directorio de trabajo anteriormente establecido\n",
    "writeRaster (Ia, filename = \"Iar\", format = \"GTiff\", overwrite = TRUE)"
   ]
  },
  {
   "cell_type": "markdown",
   "metadata": {},
   "source": [
    "# Intentando cambiar la paleta de colores que trae R por defecto en la clasificacion a traves de ggplot"
   ]
  },
  {
   "cell_type": "markdown",
   "metadata": {},
   "source": [
    "El ploteo de los datos se puede realizar con simbolos o colores de acuerdo con el rango de los valores para mejorar la claridad y visibilidadd del ploteo. Para esto se necesita decirle a ggplot en cuantos grupos de van a dividir los datos, y donde deben estar los descansos. Para tomar estas decisiones es util explorar primero la distribucion de los datos mediante diagrama de barras. Para esto se utiliza la funcion dplyr´s mulate() combinada con cut() para dividir los datos en 6 contenedores (Rangos de Indice de aridez).\n",
    "\n",
    "La funcion na.omith() sirve para eliminar los valores de NA de la imagen"
   ]
  },
  {
   "cell_type": "code",
   "execution_count": null,
   "metadata": {},
   "outputs": [],
   "source": [
    "info_B2_df <- raster::as.data.frame(Ia, xy = TRUE)\n",
    "info_B2_df <- na.omit(info_B2_df)\n",
    "str(info_B2_df)"
   ]
  },
  {
   "cell_type": "code",
   "execution_count": null,
   "metadata": {},
   "outputs": [],
   "source": [
    "info_B2_df <- info_B2_df %>%\n",
    "               mutate(ND = cut(layer, breaks = 6))"
   ]
  },
  {
   "cell_type": "code",
   "execution_count": null,
   "metadata": {},
   "outputs": [],
   "source": [
    "ggplot() +\n",
    "    geom_bar(data = info_B2_df, aes(ND))"
   ]
  },
  {
   "cell_type": "markdown",
   "metadata": {},
   "source": [
    "Si se quiere conocer los valores de corte para los grupos, se puede solicitar los valores unicos de altura"
   ]
  },
  {
   "cell_type": "code",
   "execution_count": null,
   "metadata": {},
   "outputs": [],
   "source": [
    "unique(info_B2_df$ND)"
   ]
  },
  {
   "cell_type": "markdown",
   "metadata": {},
   "source": [
    "Se pueden utilizar esos grupos para plotear los datos raster personalizado, utilizando un color difernte para cada grupo."
   ]
  },
  {
   "cell_type": "code",
   "execution_count": null,
   "metadata": {},
   "outputs": [],
   "source": [
    "ggplot() +\n",
    " geom_raster(data = info_B2_df , aes(x = x, y = y, fill = ND))"
   ]
  },
  {
   "cell_type": "markdown",
   "metadata": {},
   "source": [
    "El ploteo utiliza los colores predeterminados por ggplot para objetos raster. Se puede especificar un colores personalizados para obtener un ploteo mas agradable. En R existe un conjunto de colores para ploteo en la funcion terrain.colors(). Como se tienen 6 contenedores, se pueden utilizar los primeros tres colores del terreno."
   ]
  },
  {
   "cell_type": "code",
   "execution_count": null,
   "metadata": {},
   "outputs": [],
   "source": [
    "terrain.colors(6)"
   ]
  },
  {
   "cell_type": "markdown",
   "metadata": {},
   "source": [
    "La funcion Terrarin.colors() son una cadena de caracteres que representan un color. Para utilizarlos se pude utilizar la funcion scale_fill_manual()"
   ]
  },
  {
   "cell_type": "code",
   "execution_count": null,
   "metadata": {},
   "outputs": [],
   "source": [
    "ggplot() +\n",
    " geom_raster(data = info_B2_df , aes(x = x, y = y,\n",
    "                                      fill = ND)) + \n",
    "    scale_fill_manual(values = terrain.colors(6), name = \"Intervalos\")"
   ]
  }
 ],
 "metadata": {
  "kernelspec": {
   "display_name": "R",
   "language": "R",
   "name": "ir"
  },
  "language_info": {
   "codemirror_mode": "r",
   "file_extension": ".r",
   "mimetype": "text/x-r-source",
   "name": "R",
   "pygments_lexer": "r",
   "version": "3.6.1"
  }
 },
 "nbformat": 4,
 "nbformat_minor": 4
}
