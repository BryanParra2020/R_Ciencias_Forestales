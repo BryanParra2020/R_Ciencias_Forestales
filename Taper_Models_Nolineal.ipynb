{
 "cells": [
  {
   "cell_type": "markdown",
   "metadata": {},
   "source": [
    "# Script de estimación volumétrica a través de modelos de ahusamiento"
   ]
  },
  {
   "cell_type": "markdown",
   "metadata": {},
   "source": [
    "**Metodos usados para la obtencion de los parametros:**\n",
    "\n",
    "1.Algoritmo de Gauss-Newton\n",
    "\n",
    "2.Algoritmo de Levenberg-Marquardt\n",
    "\n",
    "#El sistema de R soluciona por defecto el problema de minimos cuadrados no lineales a traves del algoritmo de Gauss-Newton (nls)\n",
    "\n",
    "#Para instalar la libreria del algoritmo de Levenberg-Marquardt solo se ejecutar la siguiente linea de codigo: \n",
    "\n",
    "install.packages (\"minpack.lm\")\n",
    " \n",
    "#Una vez instalada solo queda importarla si es necesario \n",
    "\n",
    "library (minpack.lm) "
   ]
  },
  {
   "cell_type": "markdown",
   "metadata": {},
   "source": [
    "# Inicio del Script"
   ]
  },
  {
   "cell_type": "code",
   "execution_count": null,
   "metadata": {},
   "outputs": [],
   "source": [
    "library (readxl)\n",
    "library (minpack.lm)"
   ]
  },
  {
   "cell_type": "code",
   "execution_count": null,
   "metadata": {},
   "outputs": [],
   "source": [
    "#Apagar la notacion cientifica \n",
    "options (scipen = 999)"
   ]
  },
  {
   "cell_type": "markdown",
   "metadata": {},
   "source": [
    "* Numero de datos ajustados en los modelos, ingresar el numero total de individuos, a modo de ejemplo se ajustara sobre 73 individuos \\ de _Eucalyptus globulus_"
   ]
  },
  {
   "cell_type": "code",
   "execution_count": null,
   "metadata": {},
   "outputs": [],
   "source": [
    "total_individuos <- 73"
   ]
  },
  {
   "cell_type": "code",
   "execution_count": null,
   "metadata": {},
   "outputs": [],
   "source": [
    "n = ((total_individuos*70)/100)"
   ]
  },
  {
   "cell_type": "code",
   "execution_count": null,
   "metadata": {},
   "outputs": [],
   "source": [
    "paste (\"El numero de individuos sobre el cual se debe realizar el ajuste es de: \"\n",
    ", trunc(n))"
   ]
  },
  {
   "cell_type": "markdown",
   "metadata": {},
   "source": [
    "# Cociente de esbeltez, relacion altura y diametro con el fin de observar la regularidad de los individuos"
   ]
  },
  {
   "cell_type": "code",
   "execution_count": null,
   "metadata": {},
   "outputs": [],
   "source": [
    "tabla <- read_excel(\"C:/Users/Administrador/Dropbox/proyecto grado/DatosEucalyptus.xlsx\",\n",
    "                    sheet = 1, col_names = TRUE, col_types = NULL, na = \"\", skip = 0) \n",
    "tabla$esbeltez <- tabla$H/tabla$DAP #Cociente de esbeltez\n",
    "head (tabla)"
   ]
  },
  {
   "cell_type": "markdown",
   "metadata": {},
   "source": [
    "# Llamando la base de datos a traves de la libreria readxl sobre el 70% del total de los individuos (haciendo el ajuste), hoja numero dos en Excel.."
   ]
  },
  {
   "cell_type": "code",
   "execution_count": null,
   "metadata": {},
   "outputs": [],
   "source": [
    "tabla2 <- read_excel(\"C:/Users/Administrador/Dropbox/proyecto grado/DatosEucalyptus.xlsx\", sheet=2,\n",
    "                     col_names = TRUE, col_types = NULL, na = \"\", skip = 0) \n",
    "tabla2\n",
    "#View (tabla)\n",
    "\n",
    "#------------------------------------------------------------------------------------\n",
    "\n",
    "#Las variables invocadas de la base de datos en la hoja de calculo deben tener la misma escrituta, por ejemplo, si deseo llamar a la variable Y en R esta debe estar declarada de la misma manera ya sea (y minuscula o Y MAYUSCULA), de esta manera no se generaran posibles errores por objetos no encontrados la base de datos original"
   ]
  },
  {
   "cell_type": "markdown",
   "metadata": {},
   "source": [
    "# Ajustando los modelos "
   ]
  },
  {
   "cell_type": "markdown",
   "metadata": {},
   "source": [
    "Metodos de convergencia empleados, **A.** Algoritmo de Gauss Newton y **B.** Algortimo de Levenbert Marquardt:\n",
    "\n",
    "\\begin{equation}\\label{eq:ej}\n",
    "A. x_{+} = x_{c} (J(x_{c})^{T} J(x_{c})^{-1} J(x_{c})^{T} R(x_{c}) \\\\\n",
    "B. x_{+} = x_{c} (J(x_{c})^{T} J(x_{c} + μcI)^{-1} J(x_{c})^{T} R(x_{c})\n",
    "\\end{equation}"
   ]
  },
  {
   "cell_type": "markdown",
   "metadata": {},
   "source": [
    "# Modelo de ahusamiento propuesto por Bruce, Curtis & Vancoevering (1968)"
   ]
  },
  {
   "cell_type": "code",
   "execution_count": null,
   "metadata": {},
   "outputs": [],
   "source": [
    "RnlinealB <- Y ~ ((b1*X^1.5) + (b2*X^3) + (b3*X^32))\n",
    "nlmodB <- nls (RnlinealB, data = tabla2, start = list(b1 = 0.1, b2 = 0.1, b3 = 0.1))\n",
    "summary (nlmodB)\n",
    "coe <- coef (nlmodB)\n",
    "b1 = coe [1]\n",
    "b1\n",
    "b2 = coe [2]\n",
    "b2\n",
    "b3 = coe [3]\n",
    "b3"
   ]
  },
  {
   "cell_type": "markdown",
   "metadata": {},
   "source": [
    "# Modelo de ahusamiento propuesto por Kozak, Munro, & Smith (1969)  "
   ]
  },
  {
   "cell_type": "markdown",
   "metadata": {},
   "source": [
    "Ilustracion del modelo de ahusamiento de Kozak, Munro, & Smith (1969)\n",
    "\n",
    "\\begin{equation}\\label{eq:ej}\n",
    "Y = b_{1} (T-1) + b_{2} (T^{2} - 1) \n",
    "\\end{equation}"
   ]
  },
  {
   "cell_type": "code",
   "execution_count": null,
   "metadata": {},
   "outputs": [],
   "source": [
    "# Modelo de ahusamiento propuesto por Kozak, Munro, & Smith (1969)     \n",
    "\n",
    "RnlinealK <- Y ~ (b1*(T - 1) + b2*(T^2 - 1))\n",
    "nlmodK <- nls (RnlinealK, data = tabla2, start = list(b1 = 0.1, b2 = 0.1))\n",
    "summary (nlmodK) \n",
    "coe <- coef (nlmodK)\n",
    "b1 = coe [1]\n",
    "b1 \n",
    "b2 = coe [2]\n",
    "b2"
   ]
  },
  {
   "cell_type": "markdown",
   "metadata": {},
   "source": [
    "# Ajustando el volumen sobre el 30% de los datos, fase de validacion, hoja numero tres, sheet=3"
   ]
  },
  {
   "cell_type": "code",
   "execution_count": null,
   "metadata": {},
   "outputs": [],
   "source": [
    "tabla3 <- read_excel(\"C:/Users/Administrador/Dropbox/proyecto grado/DatosEucalyptus.xlsx\",\n",
    "                     sheet = 3, col_names = TRUE, col_types = NULL, na = \"\", skip = 0) \n",
    "head (tabla3)"
   ]
  },
  {
   "cell_type": "markdown",
   "metadata": {},
   "source": [
    "# Estimacion del volumen por metodos numericos (Integrar modelo de Kozak para todos los individuos)"
   ]
  },
  {
   "cell_type": "markdown",
   "metadata": {},
   "source": [
    "\\begin{equation}\n",
    "V = \\int_{0}^{ht} \\pi/40000*DSC^{2}*P(x) \\cdot dx\n",
    "\\end{equation}"
   ]
  },
  {
   "cell_type": "code",
   "execution_count": null,
   "metadata": {},
   "outputs": [],
   "source": [
    "for (i in 1:nrow (tabla3)){\n",
    " dsc <- tabla3$DSC [i]      \n",
    " ht <- tabla3$H [i]\n",
    " a = pi/40000\n",
    " k <- a*(dsc^2)\n",
    " fk <- function(h) k*(b1*((h/ht)-1)+b2*((h/ht)^2-1))  \n",
    " volkozak <- integrate (fk,0,ht) \n",
    " print(volkozak$value)\n",
    "}"
   ]
  },
  {
   "cell_type": "markdown",
   "metadata": {},
   "source": [
    "# Estimacion del volumen por metodos analiticos  "
   ]
  },
  {
   "cell_type": "markdown",
   "metadata": {},
   "source": [
    "Para la estimación del volumen observado se trató el individuo como un cilindro desde la zona\n",
    "del tocón hasta el DAP, luego a través de la ecuación de Smalian desde la zona del DAP hasta la\n",
    "altura total del\n",
    "individuo como un paraboloide, obteniendo asi:"
   ]
  },
  {
   "cell_type": "markdown",
   "metadata": {},
   "source": [
    "\\begin{equation}\n",
    "V = (\\pi/40000*DSC^{2}*1.3) + \\pi/40000*(\\frac{DSC^{2} + Di^{2}}{2})*L \n",
    "\\end{equation}"
   ]
  },
  {
   "cell_type": "code",
   "execution_count": null,
   "metadata": {},
   "outputs": [],
   "source": [
    "# El metodo analitico tomara como forma del arbol un cilindro desde la zona del tocon hasta el diametro a la altura del pecho, y un paraboloide (Smalian) desde el dap hasta la altura total del individuo.\n",
    "\n",
    "#Volumenes (Observados vs predichos), sobre el 30% de los datos, hoja numero 3\n",
    "\n",
    "a = pi/40000\n",
    "di = 0.01 #tomado como diametro inferior de aproximadamente 1 cm\n",
    "l = (tabla3$H-1.3) #longitud fustal para estimacion del paraboloide\n",
    "tabla3$vol_metanalitico <- (pi/40000 * ((tabla3$DSC)^2) * 1.3) + (a*((tabla3$DSC^2+di^2)/2)*l)\n",
    "vobs <- tabla3$vol_metanalitico\n",
    "vobs"
   ]
  },
  {
   "cell_type": "markdown",
   "metadata": {},
   "source": [
    "# Coeficiente de determinación, correlacion entre el volumen observado (Metodo analitico) y volumen predicho (volumen ajustado a traves de los modelos de ahusamiento)\n"
   ]
  },
  {
   "cell_type": "code",
   "execution_count": null,
   "metadata": {},
   "outputs": [],
   "source": [
    "rls = lm (volkozak ~ vobs, data = tabla3)\n",
    "summary(rls)#muestra las caracteristicas estadisticas del ajuste del modelo\n",
    "coef(rls)#evaluar los coef del modelo\n",
    "residuals (rls) #Invocando los residuales del modelo de regresion\n",
    "\n",
    "# Obteniendo el coeficiente de determinacion,los valores mas cercanos al 1 demostraran una mayor aptitud del modelo \n",
    "rlsc = summary (rls)\n",
    "r2 = rlsc [8]\n",
    "r2 "
   ]
  },
  {
   "cell_type": "markdown",
   "metadata": {},
   "source": [
    "# Graficos para observar el cumplimiento de los supuestos: "
   ]
  },
  {
   "cell_type": "code",
   "execution_count": null,
   "metadata": {},
   "outputs": [],
   "source": [
    "#1. Aleatoriedad de los residuales \n",
    "#2. Distribucion normal \n",
    "#3. Homocedasticidad de varianza\n",
    "#4. Transformacion de cook \n",
    "\n",
    "win.graph()\n",
    "par (mfrow = c(2,2)) #Muestra en una ventana el grafico de los supuestos\n",
    "plot (lm(volkozak ~ vobs, data = tabla3))\n",
    "\n",
    "#xlab = \"Volumen Observado\", ylab = \"Residuales\", main = \"Cumplimiento de supuestos\"\n",
    "\n",
    "win.graph()\n",
    "par(mfrow = c(2, 2))\n",
    "rls <- lm(volkozak ~ vobs, data = tabla3)\n",
    "plot(residuals(rls) ~ tabla3$volkozak, xlab = \"Volumen Predicho\", \n",
    "     ylab = \"Residuales\", main = \"Aleatoriedad de los residuales\", col = \"blue\")\n",
    "abline(h = 0, lty = 2)"
   ]
  },
  {
   "cell_type": "markdown",
   "metadata": {},
   "source": [
    "# Calculo de la raiz del error cuadratico medio RMSE"
   ]
  },
  {
   "cell_type": "code",
   "execution_count": null,
   "metadata": {},
   "outputs": [],
   "source": [
    "#n = numero de datos ajustados en el modelo\n",
    "\n",
    "RMSE = ((sum(residuals(rls)^2))/(n-2))^1/2\n",
    "paste (\"La raiz del errror cuadratico medio es: \", trunc(RMSE))"
   ]
  },
  {
   "cell_type": "markdown",
   "metadata": {},
   "source": [
    "# Modelo de ahusamiento propuesto por Demaerschalk (1972)  "
   ]
  },
  {
   "cell_type": "code",
   "execution_count": null,
   "metadata": {},
   "outputs": [],
   "source": [
    "RnlinealD72 <- Y ~ (b1 * (Z^b2))\n",
    "nlmodD72 <- nls (RnlinealD72, data = tabla2, start = list(b1 = 0.1, b2 = 0.1))\n",
    "summary (nlmodD72)\n",
    "coe <- coef (nlmodD72)\n",
    "b1 = coe [1]\n",
    "b1\n",
    "b2 = coe [2]\n",
    "b2"
   ]
  },
  {
   "cell_type": "markdown",
   "metadata": {},
   "source": [
    "# Ajustando el volumen sobre el 30% de los datos, fase de validacion, hoja numero tres, sheet=3"
   ]
  },
  {
   "cell_type": "code",
   "execution_count": null,
   "metadata": {},
   "outputs": [],
   "source": [
    "tabla3 <- read_excel(\"C:/Users/Administrador/Dropbox/proyecto grado/DatosEucalyptus.xlsx\",sheet=3,col_names=TRUE,col_types=NULL,na=\"\", skip=0) \n",
    "head (tabla3)"
   ]
  },
  {
   "cell_type": "markdown",
   "metadata": {},
   "source": [
    "# Integrar modelo de Demaerschalk (1972) para todos los individuos"
   ]
  },
  {
   "cell_type": "code",
   "execution_count": null,
   "metadata": {},
   "outputs": [],
   "source": [
    "for (i in 1:nrow (tabla3)){\n",
    " dsc <- tabla3$DSC [i]      \n",
    " ht <- tabla3$H [i]\n",
    " a <- pi/40000\n",
    " k <- a*(dsc^2)\n",
    " fd72 = function(h) k*(b1*((ht-h)/(ht))^b2)  \n",
    " voldemaerschalk <- integrate (fd72,0,ht) \n",
    " print(voldemaerschalk$value)\n",
    "}"
   ]
  },
  {
   "cell_type": "markdown",
   "metadata": {},
   "source": [
    "# Estimacion del volumen por metodos analiticos"
   ]
  },
  {
   "cell_type": "code",
   "execution_count": null,
   "metadata": {},
   "outputs": [],
   "source": [
    "# El metodo analitico tomara como forma del arbol un cilindro desde la zona del tocon hasta el diametro a la altura del pecho, y un paraboloide (Smalian) desde el dap hasta la altura total del individuo.\n",
    "\n",
    "#Volumenes (Observados vs predichos), sobre el 30% de los datos, hoja numero 3\n",
    "\n",
    "a = pi/40000\n",
    "di = 0.01 #tomado como diametro inferior de aproximadamente 1 cm\n",
    "l = (tabla3$H-1.3) #longitud fustal para estimacion del paraboloide\n",
    "tabla3$vol_metanalitico <- (pi/40000 * ((tabla3$DSC)^2) * 1.3) + (a*((tabla3$DSC^2+di^2)/2)*l)\n",
    "vobs <- tabla3$vol_metanalitico\n",
    "vobs"
   ]
  },
  {
   "cell_type": "markdown",
   "metadata": {},
   "source": [
    "# Regresion lineal simple, entre el volumen observado (Metodo analitico) y volumen predicho (volumen ajustado a traves de los modelos de ahusamiento)"
   ]
  },
  {
   "cell_type": "code",
   "execution_count": null,
   "metadata": {},
   "outputs": [],
   "source": [
    "rls = lm (voldemaerschalk ~ vobs, data = tabla3)\n",
    "summary(rls)#muestra las caracteristicas estadisticas del ajuste del modelo\n",
    "coef(rls)#evaluar los coef del modelo\n",
    "residuals (rls) #Invocando los residuales del modelo de regresion\n",
    "\n",
    "# Obteniendo el coeficiente de determinacion,los valores mas cercanos al 1 demostraran una mayor aptitud del modelo \n",
    "rlsc = summary (rls)\n",
    "r2 = rlsc [8]\n",
    "r2 "
   ]
  },
  {
   "cell_type": "markdown",
   "metadata": {},
   "source": [
    "# Graficos para observar el cumplimiento de los supuestos:"
   ]
  },
  {
   "cell_type": "code",
   "execution_count": null,
   "metadata": {},
   "outputs": [],
   "source": [
    "#1. Aleatoriedad de los residuales \n",
    "#2. Distribucion normal \n",
    "#3. Homocedasticidad de varianza\n",
    "#4. Transformacion de cook \n",
    "\n",
    "win.graph()\n",
    "par (mfrow = c(2,2)) #Muestra en una ventana el grafico de los supuestos\n",
    "plot (lm(voldemaerschalk ~ vobs, data = tabla3))\n",
    "\n",
    "win.graph()\n",
    "par(mfrow = c(2, 2))\n",
    "rls <- lm (voldemaerschalk ~ vobs, data = tabla3)\n",
    "plot(residuals(rls)  ~ tabla3$voldemaerschalk, xlab = \"Volumen Predicho\", ylab = \"Residuales\", main = \"Aleatoriedad de los residuales\", col = \"blue\")\n",
    "abline(h = 0, lty = 2)"
   ]
  },
  {
   "cell_type": "markdown",
   "metadata": {},
   "source": [
    "# Calculo de la raiz del error cuadratico medio RMSE"
   ]
  },
  {
   "cell_type": "code",
   "execution_count": null,
   "metadata": {},
   "outputs": [],
   "source": [
    "#n = numero de datos ajustados en el modelo\n",
    "\n",
    "RMSE = ((sum(residuals(rls)^2))/(n-2))^1/2\n",
    "paste (\"La raiz del errror cuadratico medio es: \", trunc(RMSE))"
   ]
  },
  {
   "cell_type": "markdown",
   "metadata": {},
   "source": [
    "# Modelo de ahusamiento) propuesto por Demaerschalk (1973) "
   ]
  },
  {
   "cell_type": "code",
   "execution_count": null,
   "metadata": {},
   "outputs": [],
   "source": [
    "RnlinealD <- Y ~ ((b1 / DAP^2 * H) * Z^b2 + b3 * Z^b4)\n",
    "nlmodD <- nls (RnlinealD, data = tabla2, start = list(b1 = 0.1, b2 = 0.1, b3 = 0.1, b4 = 0.1))\n",
    "summary (nlmodD)\n",
    "coe <- coef (nlmodD) \n",
    "b1 = coe [1]\n",
    "b1\n",
    "b2 = coe [2]\n",
    "b2\n",
    "b3 = coe [3]\n",
    "b3\n",
    "b4 = coe [4]\n",
    "b4"
   ]
  },
  {
   "cell_type": "markdown",
   "metadata": {},
   "source": [
    "# Como no hubo convergencia de parametros por el metodo de Newton, se empleará el método de Levenbert-Mardquardt para obeservar si hay convergencia o no"
   ]
  },
  {
   "cell_type": "code",
   "execution_count": null,
   "metadata": {},
   "outputs": [],
   "source": [
    "#2\n",
    "\n",
    "RnlinealD <- Y ~ ((b1 / DAP^2 * H) * Z^b2 + b3 * Z^b4)\n",
    "LMD <- nlsLM (RnlinealD, data = tabla2, start = list(b1 = 0.1, b2 = 0.1, b3 = 0.1, b4 = 0.1))\n",
    "summary (LMD) \n",
    "coe <- coef (LMD)\n",
    "b1 = coe [1]\n",
    "b1\n",
    "b2 = coe [2]\n",
    "b2\n",
    "b3 = coe [3]\n",
    "b3\n",
    "b4 = coe [4]\n",
    "b4"
   ]
  },
  {
   "cell_type": "markdown",
   "metadata": {},
   "source": [
    "# Modelo de ahusamiento propuesto por Lowell (1986)"
   ]
  },
  {
   "cell_type": "code",
   "execution_count": null,
   "metadata": {},
   "outputs": [],
   "source": [
    "RnlinealL <- Y ~ ((b1*X) + (b2*X^2) + (b3*X^3) + (b4*X^4) + (b5*X^5))\n",
    "nlmodL <- nls (RnlinealL, data = tabla2, start = list(b1 = 0.1, b2 = 0.1, b3 = 0.1, b4 = 0.1, b5 = 0.1))\n",
    "summary (nlmodL)\n",
    "coe <- coef (nlmodL)\n",
    "b1 = coe [1]\n",
    "b1\n",
    "b2 = coe [2]\n",
    "b2\n",
    "b3 = coe [3]\n",
    "b3\n",
    "b4 = coe [4]\n",
    "b4\n",
    "b5 = coe [5]\n",
    "b5"
   ]
  },
  {
   "cell_type": "markdown",
   "metadata": {},
   "source": [
    "# Modelo de ahusamiento trigonometrico propuesto por Thomas y Parresol (1991)"
   ]
  },
  {
   "cell_type": "code",
   "execution_count": null,
   "metadata": {},
   "outputs": [],
   "source": [
    "#Argumentos expresados en radianes\n",
    "\n",
    "RtTP <- Y ~ ((b1*T-1) + b2*sin(2*pi*T) + b3*(1/tan(pi/2*T))) \n",
    "modtTP <- nls (RtTP, data = tabla2, start = list (b1 = 0.1, b2 = 0.1, b3 = 0.1))\n",
    "summary (modtTP)\n",
    "coe <- coef (modtTP)\n",
    "b1 = coe [1]\n",
    "b1\n",
    "b2 = coe [2]\n",
    "b2\n",
    "b3 = coe [3]\n",
    "b3"
   ]
  },
  {
   "cell_type": "markdown",
   "metadata": {},
   "source": [
    "# Modelo de ahusamiento propuesto por Renteria & Ramirez (1998)"
   ]
  },
  {
   "cell_type": "code",
   "execution_count": null,
   "metadata": {},
   "outputs": [],
   "source": [
    "RnlinealR <- Y ~ ((b1*Z) + (b2*Z^2) + (b3*Z^3))\n",
    "nlmodR <- nls (RnlinealR, data = tabla2, start = list(b1 = 0.1, b2 = 0.1, b3=0.1))\n",
    "summary (nlmodR)\n",
    "coe <- coef (nlmodR)\n",
    "b1 = coe [1]\n",
    "b1\n",
    "b2 = coe [2]\n",
    "b2\n",
    "b3 = coe [3]\n",
    "b3"
   ]
  },
  {
   "cell_type": "markdown",
   "metadata": {},
   "source": [
    "# Modelo de ahusamiento propuesto por Coffre (Rojo et al. (2005)"
   ]
  },
  {
   "cell_type": "code",
   "execution_count": null,
   "metadata": {},
   "outputs": [],
   "source": [
    "RnlinealC <- Y ~ ((b1*X) + (b2*X^2) + (b3*X^3))\n",
    "nlmodC <- nls (RnlinealC, data = tabla2, start = list(b1 = 0.1, b2 = 0.1, b3 = 0.1))\n",
    "summary (nlmodC)\n",
    "coe <- coef (nlmodC)\n",
    "b1 = coe [1]\n",
    "b1\n",
    "b2 = coe [2]\n",
    "b2\n",
    "b3 = coe [3]\n",
    "b3"
   ]
  },
  {
   "cell_type": "markdown",
   "metadata": {},
   "source": [
    "# Modelo de ahusamiento propuesto por J. Andres Rodriguez Toro et al (2016)"
   ]
  },
  {
   "cell_type": "code",
   "execution_count": null,
   "metadata": {},
   "outputs": [],
   "source": [
    "RnlinealT <- Y ~ X/(b0+b1*X+b2*X^2+b3*X^3)\n",
    "nlmodT <- nls (RnlinealT, data = tabla2, start = list(b0 = 0.1, b1 = 0.1, b2 = 0.1, b3 = 0.1))\n",
    "summary (nlmodT) \n",
    "coe <- coef (nlmodT)\n",
    "b0 = coe [1]\n",
    "b0\n",
    "b1 = coe [2]\n",
    "b1\n",
    "b2 = coe [3] \n",
    "b2\n",
    "b3 = coe [4]\n",
    "b3"
   ]
  },
  {
   "cell_type": "markdown",
   "metadata": {},
   "source": [
    "# Indice de Criterio Akaike"
   ]
  },
  {
   "cell_type": "markdown",
   "metadata": {},
   "source": [
    "\\begin{equation}\\label{eq:ej}\n",
    "AIC = 2logLik + 2K\n",
    "\\end{equation}"
   ]
  },
  {
   "cell_type": "code",
   "execution_count": null,
   "metadata": {},
   "outputs": [],
   "source": [
    "\n",
    "#Al comparar modelos ajustados por la máxima probabilidad a los mismos datos, cuanto más pequeño sea el AIC o BIC, mejor será el ajuste.\n",
    "\n",
    "#?AIC\n",
    "\n",
    "IAB = AIC (nlmodB)\n",
    "\n",
    "IAK = AIC (nlmodK)\n",
    "\n",
    "IAD72 = AIC (nlmodD72) \n",
    "\n",
    "IAD73 = AIC (LMD)\n",
    "\n",
    "IAL = AIC (nlmodL)\n",
    "\n",
    "IATP = AIC (modtTP)\n",
    "\n",
    "IAR = AIC (nlmodR)\n",
    " \n",
    "IAC = AIC (nlmodC)\n",
    "\n",
    "IAT = AIC (nlmodT)\n",
    "\n",
    "#Estructura de control para seleccion del criterio para Akaike en base al ajuste de los modelos\n",
    "\n",
    "if ((IAR)<(IAK) && (IAR)<(IAB) && (IAR)<(IAD72) && (IAR)<(IATP)) {\n",
    "  print (\"El modelo mejor ajustado por el indice de Akaike es el de: Renteria\")\n",
    "} else if ((IAK)<(IAR) && (IAK)<(IAB) && (IAK)<(IAD72) && (IAK)<(IATP)) {\n",
    "  print (\"El modelo mejor ajustado por el indice de Akaike es el de: Kozak\")\n",
    "} else if ((IAB)<(IAR) && (IAB)<(IAK) && (IAB)<(IAD72) && (IAB)<(IATP)) {\n",
    "  print (\"El modelo mejor ajustado por el indice de Akaike es el de: Bruce\")\n",
    "} else if ((IAD72)<(IAR) && (IAD72)<(IAK) && (IAD72)<(IAB) && (IAD72)<(IATP)) {\n",
    "  print (\"El modelo mejor ajustado por el indice de Akaike es el de: Demaerschalk (72)\")  \n",
    "} else if ((IATP)<(IAR) && (IATP)<(IAK) && (IATP)<(IAB) && (IATP)<(IAD72)) {\n",
    "  print (\"El modelo mejor ajustado por el indice de Akaike es el de: Thomas Parresol\") \n",
    "}\n",
    "\n",
    "#----------------------------------------------------------------------------------"
   ]
  },
  {
   "cell_type": "markdown",
   "metadata": {},
   "source": [
    "# Indice de Criterio Bayesiano"
   ]
  },
  {
   "cell_type": "markdown",
   "metadata": {},
   "source": [
    "\\begin{equation}\\label{eq:ej}\n",
    "AIC = -2logLik + log(N) * K(6)\n",
    "\\end{equation}"
   ]
  },
  {
   "cell_type": "code",
   "execution_count": null,
   "metadata": {},
   "outputs": [],
   "source": [
    "#?BIC\n",
    "\n",
    "IBB = BIC (nlmodB)\n",
    "\n",
    "IBK = BIC (nlmodK)\n",
    "\n",
    "IBD72 = BIC (nlmodD72) \n",
    "\n",
    "IBD73 = BIC (LMD)\n",
    "\n",
    "IBL = BIC (nlmodL)\n",
    "\n",
    "IBTP = BIC (modtTP)\n",
    "\n",
    "IBR = BIC (nlmodR) \n",
    " \n",
    "IBC = BIC (nlmodC)\n",
    "\n",
    "IBT = BIC (nlmodT)\n",
    "\n",
    "#Estructura de control para seleccion del criterio para Bayesiano \n",
    "\n",
    "if ((IBR)<(IBK) && (IBR)<(IBB) && (IBR)<(IBD72) && (IBR)<(IBTP)) {\n",
    "  print (\"El modelo mejor ajustado por el indice de Bayesiano es el de: Renteria\")\n",
    "} else if ((IBK)<(IBR) && (IBK)<(IBB) && (IBK)<(IBD72) && (IBR)<(IBTP)) {\n",
    "  print (\"El modelo mejor ajustado por el indice de Bayesiano es el de: Kozak\")\n",
    "} else if ((IBB)<(IBR) && (IBB)<(IBK) && (IBB)<(IBD72)&& (IBR)<(IBTP)) {\n",
    "  print (\"El modelo mejor ajustado por el indice de Bayesiano es el de: Bruce\")\n",
    "} else if ((IBD72)<(IBR) && (IBD72)<(IBK) && (IBD72)<(IBB)&& (IBR)<(IBTP)) {\n",
    "  print (\"El modelo mejor ajustado por el indice de Bayesiano es el de: Demaerschalk (72)\")  \n",
    "} else if ((IBTP)<(IBR) && (IBTP)<(IBK) && (IBTP)<(IBB) && (IBTP)<(IBD72)) {\n",
    "  print (\"El modelo mejor ajustado por el indice de Bayesiano es el de: Thomas y Parresol\")\n",
    "}"
   ]
  },
  {
   "cell_type": "markdown",
   "metadata": {},
   "source": [
    "# Graficando los perfiles longitudinales fustales"
   ]
  },
  {
   "cell_type": "markdown",
   "metadata": {},
   "source": [
    "#Que modelos se ajustaron de manera significativa?\n",
    "\n",
    "#(En este caso):\n",
    "#1.Demaerschalk (72)\n",
    "#2.Kozak \n",
    "#3.Thomas y Parresol"
   ]
  },
  {
   "cell_type": "code",
   "execution_count": null,
   "metadata": {},
   "outputs": [],
   "source": [
    "#Crear un vector llamado XTZ, con valores que van desde 0 hasta 1 de 0.01 en 0.01  \n",
    "\n",
    "XTZ <- seq (from = 0, to = 1, by = 0.01)\n",
    "print(XTZ)"
   ]
  },
  {
   "cell_type": "code",
   "execution_count": null,
   "metadata": {},
   "outputs": [],
   "source": [
    "#1.Reemplazar los coeficientes obtenidos de acuerdo al modelo ajustado (En este caso KOZAK) y encontrar la variable respuesta (y)\n",
    "\n",
    "summary (nlmodK) \n",
    "coe <- coef (nlmodK)\n",
    "b1 <- coe [1] \n",
    "b1\n",
    "b2 <- coe [2] \n",
    "b2\n",
    "\n",
    "y <- (b1*(XTZ - 1) + b2*(XTZ^2 - 1))\n",
    "print(y)\n",
    "\n",
    "win.graph ()\n",
    "k = plot (XTZ ~ y, data = tabla2, type = \"o\", lwd = 2, main = \"Perfil de Ahusamiento Kozak\",\n",
    "          xlab = \"XTZ\", ylab = \"Y\", col = \"blue\")\n",
    "grid (col = \"black\")"
   ]
  },
  {
   "cell_type": "code",
   "execution_count": null,
   "metadata": {},
   "outputs": [],
   "source": [
    "#2.Reemplazar los coeficientes obtenidos de acuerdo al modelo ajustado (En este caso Demaerschalk (72)) y encontrar la variable respuesta (y)\n",
    "\n",
    "summary (nlmodD72)\n",
    "coe <- coef (nlmodD72)\n",
    "b1 <- coe [1]\n",
    "b1\n",
    "b2 <- coe [2]\n",
    "b2\n",
    "\n",
    "y <- (b1 * (XTZ^b2))\n",
    "print (y)\n",
    "\n",
    "win.graph ()\n",
    "d = plot (XTZ ~ y, data = tabla2, type = \"o\", lwd = 2, main = \"Perfil de Ahusamiento Demaerschalk (72)\", \n",
    "          xlab = \"XTZ\", ylab = \"Y\", col = \"red\")\n",
    "grid (col = \"blue\")"
   ]
  },
  {
   "cell_type": "code",
   "execution_count": null,
   "metadata": {},
   "outputs": [],
   "source": [
    "#3.Reemplazar los coeficientes obtenidos de acuerdo al modelo ajustado (En este caso Thomas y Parresol) y encontrar la variable respuesta (y)\n",
    "\n",
    "summary (modtTP) \n",
    "coe <- coef (modtTP)\n",
    "b1 <- coe [1] \n",
    "b1\n",
    "b2 <- coe [2] \n",
    "b2\n",
    "b3 <- coe [3] \n",
    "b3\n",
    "\n",
    "y <- ((b1*XTZ-1) + b2*sin(2*pi*XTZ) + b3*(1/tan(pi/2*XTZ))) \n",
    "print(y)\n",
    "\n",
    "win.graph ()\n",
    "tp = plot (XTZ ~ y, data = tabla2, type = \"o\", lwd = 2, main = \"Perfil de Ahusamiento de Thomas y Parresol\", \n",
    "           xlab = \"XTZ\", ylab = \"Y\", col = \"black\")\n",
    "grid (col = \"gray\")"
   ]
  },
  {
   "cell_type": "markdown",
   "metadata": {},
   "source": [
    "#                                              Fin del Script"
   ]
  }
 ],
 "metadata": {
  "kernelspec": {
   "display_name": "R",
   "language": "R",
   "name": "ir"
  },
  "language_info": {
   "codemirror_mode": "r",
   "file_extension": ".r",
   "mimetype": "text/x-r-source",
   "name": "R",
   "pygments_lexer": "r",
   "version": "3.6.1"
  }
 },
 "nbformat": 4,
 "nbformat_minor": 4
}
